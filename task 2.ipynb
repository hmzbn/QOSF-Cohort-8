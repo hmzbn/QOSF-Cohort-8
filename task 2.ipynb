{
 "cells": [
  {
   "cell_type": "markdown",
   "id": "477700b7",
   "metadata": {},
   "source": [
    "### task 2: find negative values"
   ]
  },
  {
   "cell_type": "code",
   "execution_count": 10,
   "id": "5491a179",
   "metadata": {},
   "outputs": [],
   "source": [
    "from qiskit import QuantumCircuit, Aer, execute"
   ]
  },
  {
   "cell_type": "code",
   "execution_count": 11,
   "id": "0d7e7249",
   "metadata": {},
   "outputs": [],
   "source": [
    "qc = QuantumCircuit(2,1)\n",
    "qc.h(0)\n",
    "qc.x(1)\n",
    "qc.h(1)\n",
    "def find_negative_numbers(list_number):\n",
    "    for i,num in enumerate(list_number):\n",
    "        if str(num)[0]=='-':\n",
    "            qc.cx(0,1)\n",
    "            qc.h(0)\n",
    "            qc.measure(0,0)\n",
    "            sim = Aer.get_backend('qasm_simulator')\n",
    "            result = execute(qc,sim,shots=1).result()\n",
    "            counts = result.get_counts()\n",
    "            return '1' in counts\n",
    "    return False"
   ]
  },
  {
   "cell_type": "code",
   "execution_count": 12,
   "id": "32e2910c",
   "metadata": {},
   "outputs": [
    {
     "name": "stdout",
     "output_type": "stream",
     "text": [
      "True\n"
     ]
    }
   ],
   "source": [
    "A = find_negative_numbers([1, -3, 2])\n",
    "print(A)"
   ]
  }
 ],
 "metadata": {
  "kernelspec": {
   "display_name": "Python 3 (ipykernel)",
   "language": "python",
   "name": "python3"
  },
  "language_info": {
   "codemirror_mode": {
    "name": "ipython",
    "version": 3
   },
   "file_extension": ".py",
   "mimetype": "text/x-python",
   "name": "python",
   "nbconvert_exporter": "python",
   "pygments_lexer": "ipython3",
   "version": "3.11.3"
  }
 },
 "nbformat": 4,
 "nbformat_minor": 5
}
